{
 "cells": [
  {
   "cell_type": "code",
   "execution_count": 1,
   "id": "39468720",
   "metadata": {},
   "outputs": [],
   "source": [
    "from requests import Request, Session\n",
    "from requests.exceptions import ConnectionError, Timeout, TooManyRedirects\n",
    "import json\n",
    "import pandas as pd\n",
    "import os\n",
    "from time import time, sleep"
   ]
  },
  {
   "cell_type": "code",
   "execution_count": 2,
   "id": "743894d9",
   "metadata": {},
   "outputs": [],
   "source": [
    "def api_runner():\n",
    "    url = \"https://pro-api.coinmarketcap.com/v1/cryptocurrency/listings/latest\"\n",
    "\n",
    "    parameters = {\n",
    "        \"start\" : \"1\",\n",
    "        \"limit\" : \"5\",\n",
    "        \"convert\" : \"USD\"\n",
    "    }\n",
    "\n",
    "    #for future notice, api key should be hidden\n",
    "    headers = {\n",
    "    'Accepts': 'application/json',\n",
    "    'X-CMC_PRO_API_KEY': \"8435eae7ca5f4266b4944ff260aba5e6\",\n",
    "    }\n",
    "\n",
    "    session = Session()\n",
    "    session.headers.update(headers)\n",
    "\n",
    "    try:\n",
    "        response = session.get(url, params=parameters)\n",
    "        data = json.loads(response.text)\n",
    "        df = pd.json_normalize(data['data'])\n",
    "        df[\"time_stamp\"] = pd.to_datetime(\"now\")\n",
    "\n",
    "        # Save to CSV file\n",
    "        file_path = \"crypto_data.csv\"\n",
    "        file_exists = os.path.exists(file_path)\n",
    "\n",
    "        df.to_csv(\n",
    "            file_path,\n",
    "            mode='a',               \n",
    "            index=False,\n",
    "            header=not file_exists  # write header only once\n",
    "        )\n",
    "\n",
    "        print(f\"Data appended to {file_path} at {pd.to_datetime('now')}\")\n",
    "\n",
    "    except (ConnectionError, Timeout, TooManyRedirects) as e:\n",
    "        print(\"Error:\", e)\n",
    "\n",
    "    df = pd.json_normalize(data['data'])\n",
    "    df[\"time_stamp\"] = pd.to_datetime(\"now\")"
   ]
  },
  {
   "cell_type": "code",
   "execution_count": null,
   "id": "6461ad98",
   "metadata": {},
   "outputs": [
    {
     "name": "stdout",
     "output_type": "stream",
     "text": [
      "Data appended to crypto_data.csv at 2025-10-28 09:15:47.769426\n",
      "Api Runner completed compile\n",
      "Data appended to crypto_data.csv at 2025-10-28 09:15:53.068637\n",
      "Api Runner completed compile\n",
      "Data appended to crypto_data.csv at 2025-10-28 09:15:58.478393\n",
      "Api Runner completed compile\n",
      "Data appended to crypto_data.csv at 2025-10-28 09:16:03.701700\n",
      "Api Runner completed compile\n",
      "Data appended to crypto_data.csv at 2025-10-28 09:16:08.990574\n",
      "Api Runner completed compile\n"
     ]
    },
    {
     "ename": "",
     "evalue": "",
     "output_type": "error",
     "traceback": [
      "\u001b[1;31mThe Kernel crashed while executing code in the current cell or a previous cell. \n",
      "\u001b[1;31mPlease review the code in the cell(s) to identify a possible cause of the failure. \n",
      "\u001b[1;31mClick <a href='https://aka.ms/vscodeJupyterKernelCrash'>here</a> for more info. \n",
      "\u001b[1;31mView Jupyter <a href='command:jupyter.viewOutput'>log</a> for further details."
     ]
    }
   ],
   "source": [
    "df = pd.DataFrame()\n",
    "\n",
    "for i in range(5):\n",
    "    temp_df = api_runner()\n",
    "    df = pd.concat([df, temp_df], ignore_index = True)\n",
    "    print(\"Api Runner completed compile\")\n",
    "    sleep(5) \n",
    "exit()"
   ]
  }
 ],
 "metadata": {
  "kernelspec": {
   "display_name": "Python 3",
   "language": "python",
   "name": "python3"
  },
  "language_info": {
   "codemirror_mode": {
    "name": "ipython",
    "version": 3
   },
   "file_extension": ".py",
   "mimetype": "text/x-python",
   "name": "python",
   "nbconvert_exporter": "python",
   "pygments_lexer": "ipython3",
   "version": "3.13.2"
  }
 },
 "nbformat": 4,
 "nbformat_minor": 5
}
